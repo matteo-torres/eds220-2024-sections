{
 "cells": [
  {
   "cell_type": "markdown",
   "id": "cf54a4ab-ba7b-4290-a63e-8fad9a271a3d",
   "metadata": {},
   "source": [
    "# Water conflicts in the Colorado River Basin\n",
    "\n",
    "Week 2 - Discussion section"
   ]
  },
  {
   "cell_type": "markdown",
   "id": "00be59c4-8969-4cd8-a7fe-d6089889c8ce",
   "metadata": {},
   "source": [
    "##  Archive exploration\n",
    "\n",
    "1. Where was the data collected from??\n",
    "\n",
    "- Colorado River Basin\n",
    "\n",
    "2. During what time frame were the observations in the dataset collected?\n",
    "\n",
    "- (2005 - 2021)\n",
    "\n",
    "3. What was the author’s perceived value of this dataset?\n",
    "\n",
    "- This data is focused on understanding social vulnerability to water insecurity, resiliency demonstrated by institutions, and conflict or crisis around water resource management. "
   ]
  },
  {
   "cell_type": "code",
   "execution_count": null,
   "id": "aef92977-cf88-46c9-9276-6b88af8d5eca",
   "metadata": {},
   "outputs": [],
   "source": []
  }
 ],
 "metadata": {
  "kernelspec": {
   "display_name": "Anaconda 3 (Base)",
   "language": "python",
   "name": "base"
  },
  "language_info": {
   "codemirror_mode": {
    "name": "ipython",
    "version": 3
   },
   "file_extension": ".py",
   "mimetype": "text/x-python",
   "name": "python",
   "nbconvert_exporter": "python",
   "pygments_lexer": "ipython3",
   "version": "3.9.13"
  }
 },
 "nbformat": 4,
 "nbformat_minor": 5
}
